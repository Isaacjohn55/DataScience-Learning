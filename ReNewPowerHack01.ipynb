{
 "cells": [
  {
   "cell_type": "markdown",
   "id": "24927188",
   "metadata": {},
   "source": [
    "### Renew Power Hiring Hackathon\n",
    "https://machinehack.com/hackathons/renew_power_hiring_hackathon/overview"
   ]
  },
  {
   "cell_type": "code",
   "execution_count": 1,
   "id": "8c0fe4d6",
   "metadata": {},
   "outputs": [],
   "source": [
    "import numpy as np\n",
    "import pandas as pd"
   ]
  },
  {
   "cell_type": "markdown",
   "id": "aaf9b294",
   "metadata": {},
   "source": [
    "### Data Loading and Preprocessing"
   ]
  },
  {
   "cell_type": "code",
   "execution_count": 2,
   "id": "389940ac",
   "metadata": {},
   "outputs": [],
   "source": [
    "ld_train = pd.read_csv(r'C:\\Users\\isaac\\Documents\\Python Scripts\\Hackathon\\RENEW Power\\New Data\\train.csv')\n",
    "ld_test = pd.read_csv(r'C:\\Users\\isaac\\Documents\\Python Scripts\\Hackathon\\RENEW Power\\New Data\\test.csv')"
   ]
  },
  {
   "cell_type": "code",
   "execution_count": 3,
   "id": "8952a282",
   "metadata": {},
   "outputs": [
    {
     "data": {
      "text/html": [
       "<div>\n",
       "<style scoped>\n",
       "    .dataframe tbody tr th:only-of-type {\n",
       "        vertical-align: middle;\n",
       "    }\n",
       "\n",
       "    .dataframe tbody tr th {\n",
       "        vertical-align: top;\n",
       "    }\n",
       "\n",
       "    .dataframe thead th {\n",
       "        text-align: right;\n",
       "    }\n",
       "</style>\n",
       "<table border=\"1\" class=\"dataframe\">\n",
       "  <thead>\n",
       "    <tr style=\"text-align: right;\">\n",
       "      <th></th>\n",
       "      <th>timestamp</th>\n",
       "      <th>active_power_calculated_by_converter</th>\n",
       "      <th>active_power_raw</th>\n",
       "      <th>ambient_temperature</th>\n",
       "      <th>generator_speed</th>\n",
       "      <th>generator_winding_temp_max</th>\n",
       "      <th>grid_power10min_average</th>\n",
       "      <th>nc1_inside_temp</th>\n",
       "      <th>nacelle_temp</th>\n",
       "      <th>reactice_power_calculated_by_converter</th>\n",
       "      <th>reactive_power</th>\n",
       "      <th>wind_direction_raw</th>\n",
       "      <th>wind_speed_raw</th>\n",
       "      <th>wind_speed_turbulence</th>\n",
       "      <th>turbine_id</th>\n",
       "      <th>Target</th>\n",
       "    </tr>\n",
       "  </thead>\n",
       "  <tbody>\n",
       "    <tr>\n",
       "      <th>0</th>\n",
       "      <td>2021-02-19 20:18:00</td>\n",
       "      <td>816.636759</td>\n",
       "      <td>834.917206</td>\n",
       "      <td>31.694380</td>\n",
       "      <td>1159.616602</td>\n",
       "      <td>65.954214</td>\n",
       "      <td>917.897085</td>\n",
       "      <td>31.881972</td>\n",
       "      <td>31.504713</td>\n",
       "      <td>141.457644</td>\n",
       "      <td>165.501518</td>\n",
       "      <td>280.864782</td>\n",
       "      <td>7.057000</td>\n",
       "      <td>0.544082</td>\n",
       "      <td>Turbine_108</td>\n",
       "      <td>47.582787</td>\n",
       "    </tr>\n",
       "    <tr>\n",
       "      <th>1</th>\n",
       "      <td>2021-04-27 04:55:00</td>\n",
       "      <td>419.107829</td>\n",
       "      <td>421.050873</td>\n",
       "      <td>12.894948</td>\n",
       "      <td>928.747996</td>\n",
       "      <td>59.571319</td>\n",
       "      <td>445.554250</td>\n",
       "      <td>32.423705</td>\n",
       "      <td>32.755770</td>\n",
       "      <td>89.186457</td>\n",
       "      <td>113.835236</td>\n",
       "      <td>299.552460</td>\n",
       "      <td>5.474937</td>\n",
       "      <td>0.469031</td>\n",
       "      <td>Turbine_18</td>\n",
       "      <td>46.070328</td>\n",
       "    </tr>\n",
       "    <tr>\n",
       "      <th>2</th>\n",
       "      <td>2021-01-25 06:26:00</td>\n",
       "      <td>1303.530558</td>\n",
       "      <td>1337.566142</td>\n",
       "      <td>16.648388</td>\n",
       "      <td>1201.219775</td>\n",
       "      <td>61.270498</td>\n",
       "      <td>1364.716003</td>\n",
       "      <td>11.446849</td>\n",
       "      <td>18.332985</td>\n",
       "      <td>230.622309</td>\n",
       "      <td>281.452253</td>\n",
       "      <td>84.960106</td>\n",
       "      <td>8.092457</td>\n",
       "      <td>0.622318</td>\n",
       "      <td>Turbine_105</td>\n",
       "      <td>39.989236</td>\n",
       "    </tr>\n",
       "    <tr>\n",
       "      <th>3</th>\n",
       "      <td>2021-10-30 03:47:00</td>\n",
       "      <td>61.494872</td>\n",
       "      <td>53.481008</td>\n",
       "      <td>28.388141</td>\n",
       "      <td>769.806122</td>\n",
       "      <td>40.674348</td>\n",
       "      <td>14.324897</td>\n",
       "      <td>34.253204</td>\n",
       "      <td>32.662889</td>\n",
       "      <td>66.211015</td>\n",
       "      <td>75.017531</td>\n",
       "      <td>87.261119</td>\n",
       "      <td>4.071032</td>\n",
       "      <td>0.760719</td>\n",
       "      <td>Turbine_15</td>\n",
       "      <td>46.056587</td>\n",
       "    </tr>\n",
       "    <tr>\n",
       "      <th>4</th>\n",
       "      <td>2021-03-15 00:39:00</td>\n",
       "      <td>593.514364</td>\n",
       "      <td>611.659108</td>\n",
       "      <td>31.519527</td>\n",
       "      <td>1046.916768</td>\n",
       "      <td>64.341763</td>\n",
       "      <td>599.020172</td>\n",
       "      <td>32.405586</td>\n",
       "      <td>31.466387</td>\n",
       "      <td>137.163938</td>\n",
       "      <td>160.202421</td>\n",
       "      <td>313.724818</td>\n",
       "      <td>6.357943</td>\n",
       "      <td>0.346068</td>\n",
       "      <td>Turbine_01</td>\n",
       "      <td>54.346095</td>\n",
       "    </tr>\n",
       "  </tbody>\n",
       "</table>\n",
       "</div>"
      ],
      "text/plain": [
       "             timestamp  active_power_calculated_by_converter  \\\n",
       "0  2021-02-19 20:18:00                            816.636759   \n",
       "1  2021-04-27 04:55:00                            419.107829   \n",
       "2  2021-01-25 06:26:00                           1303.530558   \n",
       "3  2021-10-30 03:47:00                             61.494872   \n",
       "4  2021-03-15 00:39:00                            593.514364   \n",
       "\n",
       "   active_power_raw  ambient_temperature  generator_speed  \\\n",
       "0        834.917206            31.694380      1159.616602   \n",
       "1        421.050873            12.894948       928.747996   \n",
       "2       1337.566142            16.648388      1201.219775   \n",
       "3         53.481008            28.388141       769.806122   \n",
       "4        611.659108            31.519527      1046.916768   \n",
       "\n",
       "   generator_winding_temp_max  grid_power10min_average  nc1_inside_temp  \\\n",
       "0                   65.954214               917.897085        31.881972   \n",
       "1                   59.571319               445.554250        32.423705   \n",
       "2                   61.270498              1364.716003        11.446849   \n",
       "3                   40.674348                14.324897        34.253204   \n",
       "4                   64.341763               599.020172        32.405586   \n",
       "\n",
       "   nacelle_temp  reactice_power_calculated_by_converter  reactive_power  \\\n",
       "0     31.504713                              141.457644      165.501518   \n",
       "1     32.755770                               89.186457      113.835236   \n",
       "2     18.332985                              230.622309      281.452253   \n",
       "3     32.662889                               66.211015       75.017531   \n",
       "4     31.466387                              137.163938      160.202421   \n",
       "\n",
       "   wind_direction_raw  wind_speed_raw  wind_speed_turbulence   turbine_id  \\\n",
       "0          280.864782        7.057000               0.544082  Turbine_108   \n",
       "1          299.552460        5.474937               0.469031   Turbine_18   \n",
       "2           84.960106        8.092457               0.622318  Turbine_105   \n",
       "3           87.261119        4.071032               0.760719   Turbine_15   \n",
       "4          313.724818        6.357943               0.346068   Turbine_01   \n",
       "\n",
       "      Target  \n",
       "0  47.582787  \n",
       "1  46.070328  \n",
       "2  39.989236  \n",
       "3  46.056587  \n",
       "4  54.346095  "
      ]
     },
     "execution_count": 3,
     "metadata": {},
     "output_type": "execute_result"
    }
   ],
   "source": [
    "ld_train.head()"
   ]
  },
  {
   "cell_type": "code",
   "execution_count": 4,
   "id": "3da799f5",
   "metadata": {
    "scrolled": true
   },
   "outputs": [
    {
     "data": {
      "text/html": [
       "<div>\n",
       "<style scoped>\n",
       "    .dataframe tbody tr th:only-of-type {\n",
       "        vertical-align: middle;\n",
       "    }\n",
       "\n",
       "    .dataframe tbody tr th {\n",
       "        vertical-align: top;\n",
       "    }\n",
       "\n",
       "    .dataframe thead th {\n",
       "        text-align: right;\n",
       "    }\n",
       "</style>\n",
       "<table border=\"1\" class=\"dataframe\">\n",
       "  <thead>\n",
       "    <tr style=\"text-align: right;\">\n",
       "      <th></th>\n",
       "      <th>active_power_calculated_by_converter</th>\n",
       "      <th>active_power_raw</th>\n",
       "      <th>ambient_temperature</th>\n",
       "      <th>generator_speed</th>\n",
       "      <th>generator_winding_temp_max</th>\n",
       "      <th>grid_power10min_average</th>\n",
       "      <th>nc1_inside_temp</th>\n",
       "      <th>nacelle_temp</th>\n",
       "      <th>reactice_power_calculated_by_converter</th>\n",
       "      <th>reactive_power</th>\n",
       "      <th>wind_direction_raw</th>\n",
       "      <th>wind_speed_raw</th>\n",
       "      <th>wind_speed_turbulence</th>\n",
       "      <th>turbine_id</th>\n",
       "    </tr>\n",
       "  </thead>\n",
       "  <tbody>\n",
       "    <tr>\n",
       "      <th>0</th>\n",
       "      <td>15.507537</td>\n",
       "      <td>19.956882</td>\n",
       "      <td>40.233264</td>\n",
       "      <td>410.538834</td>\n",
       "      <td>57.357366</td>\n",
       "      <td>84.008399</td>\n",
       "      <td>48.826597</td>\n",
       "      <td>45.363477</td>\n",
       "      <td>2.419202</td>\n",
       "      <td>1.468876</td>\n",
       "      <td>156.399396</td>\n",
       "      <td>2.438629</td>\n",
       "      <td>0.790435</td>\n",
       "      <td>Turbine_14</td>\n",
       "    </tr>\n",
       "    <tr>\n",
       "      <th>1</th>\n",
       "      <td>472.577255</td>\n",
       "      <td>478.373881</td>\n",
       "      <td>12.306687</td>\n",
       "      <td>965.077563</td>\n",
       "      <td>51.796728</td>\n",
       "      <td>492.531362</td>\n",
       "      <td>27.457511</td>\n",
       "      <td>24.045565</td>\n",
       "      <td>96.152070</td>\n",
       "      <td>119.378235</td>\n",
       "      <td>56.443802</td>\n",
       "      <td>5.900371</td>\n",
       "      <td>0.544198</td>\n",
       "      <td>Turbine_19</td>\n",
       "    </tr>\n",
       "    <tr>\n",
       "      <th>2</th>\n",
       "      <td>447.829615</td>\n",
       "      <td>451.158264</td>\n",
       "      <td>29.106771</td>\n",
       "      <td>948.035899</td>\n",
       "      <td>60.493098</td>\n",
       "      <td>393.151576</td>\n",
       "      <td>39.410553</td>\n",
       "      <td>35.715697</td>\n",
       "      <td>90.251529</td>\n",
       "      <td>117.192635</td>\n",
       "      <td>224.540263</td>\n",
       "      <td>5.924923</td>\n",
       "      <td>0.513481</td>\n",
       "      <td>Turbine_14</td>\n",
       "    </tr>\n",
       "    <tr>\n",
       "      <th>3</th>\n",
       "      <td>254.014336</td>\n",
       "      <td>249.438965</td>\n",
       "      <td>27.074900</td>\n",
       "      <td>804.963776</td>\n",
       "      <td>55.741899</td>\n",
       "      <td>178.715101</td>\n",
       "      <td>29.476841</td>\n",
       "      <td>31.151895</td>\n",
       "      <td>89.273838</td>\n",
       "      <td>105.086257</td>\n",
       "      <td>182.151426</td>\n",
       "      <td>4.409707</td>\n",
       "      <td>0.448881</td>\n",
       "      <td>Turbine_120</td>\n",
       "    </tr>\n",
       "    <tr>\n",
       "      <th>4</th>\n",
       "      <td>1174.930566</td>\n",
       "      <td>1202.654077</td>\n",
       "      <td>32.148434</td>\n",
       "      <td>1199.754858</td>\n",
       "      <td>67.272313</td>\n",
       "      <td>1115.850317</td>\n",
       "      <td>31.920549</td>\n",
       "      <td>30.864276</td>\n",
       "      <td>189.731988</td>\n",
       "      <td>236.053320</td>\n",
       "      <td>261.672180</td>\n",
       "      <td>7.822326</td>\n",
       "      <td>0.561465</td>\n",
       "      <td>Turbine_158</td>\n",
       "    </tr>\n",
       "  </tbody>\n",
       "</table>\n",
       "</div>"
      ],
      "text/plain": [
       "   active_power_calculated_by_converter  active_power_raw  \\\n",
       "0                             15.507537         19.956882   \n",
       "1                            472.577255        478.373881   \n",
       "2                            447.829615        451.158264   \n",
       "3                            254.014336        249.438965   \n",
       "4                           1174.930566       1202.654077   \n",
       "\n",
       "   ambient_temperature  generator_speed  generator_winding_temp_max  \\\n",
       "0            40.233264       410.538834                   57.357366   \n",
       "1            12.306687       965.077563                   51.796728   \n",
       "2            29.106771       948.035899                   60.493098   \n",
       "3            27.074900       804.963776                   55.741899   \n",
       "4            32.148434      1199.754858                   67.272313   \n",
       "\n",
       "   grid_power10min_average  nc1_inside_temp  nacelle_temp  \\\n",
       "0                84.008399        48.826597     45.363477   \n",
       "1               492.531362        27.457511     24.045565   \n",
       "2               393.151576        39.410553     35.715697   \n",
       "3               178.715101        29.476841     31.151895   \n",
       "4              1115.850317        31.920549     30.864276   \n",
       "\n",
       "   reactice_power_calculated_by_converter  reactive_power  wind_direction_raw  \\\n",
       "0                                2.419202        1.468876          156.399396   \n",
       "1                               96.152070      119.378235           56.443802   \n",
       "2                               90.251529      117.192635          224.540263   \n",
       "3                               89.273838      105.086257          182.151426   \n",
       "4                              189.731988      236.053320          261.672180   \n",
       "\n",
       "   wind_speed_raw  wind_speed_turbulence   turbine_id  \n",
       "0        2.438629               0.790435   Turbine_14  \n",
       "1        5.900371               0.544198   Turbine_19  \n",
       "2        5.924923               0.513481   Turbine_14  \n",
       "3        4.409707               0.448881  Turbine_120  \n",
       "4        7.822326               0.561465  Turbine_158  "
      ]
     },
     "execution_count": 4,
     "metadata": {},
     "output_type": "execute_result"
    }
   ],
   "source": [
    "ld_test.head()"
   ]
  },
  {
   "cell_type": "code",
   "execution_count": 5,
   "id": "595d46c8",
   "metadata": {},
   "outputs": [
    {
     "data": {
      "text/plain": [
       "(909604, 16)"
      ]
     },
     "execution_count": 5,
     "metadata": {},
     "output_type": "execute_result"
    }
   ],
   "source": [
    "ld_train.shape"
   ]
  },
  {
   "cell_type": "code",
   "execution_count": 6,
   "id": "4db77aec",
   "metadata": {},
   "outputs": [
    {
     "data": {
      "text/plain": [
       "(303202, 14)"
      ]
     },
     "execution_count": 6,
     "metadata": {},
     "output_type": "execute_result"
    }
   ],
   "source": [
    "ld_test.shape"
   ]
  },
  {
   "cell_type": "code",
   "execution_count": 7,
   "id": "de97f851",
   "metadata": {},
   "outputs": [
    {
     "data": {
      "text/plain": [
       "timestamp                                  object\n",
       "active_power_calculated_by_converter      float64\n",
       "active_power_raw                          float64\n",
       "ambient_temperature                       float64\n",
       "generator_speed                           float64\n",
       "generator_winding_temp_max                float64\n",
       "grid_power10min_average                   float64\n",
       "nc1_inside_temp                           float64\n",
       "nacelle_temp                              float64\n",
       "reactice_power_calculated_by_converter    float64\n",
       "reactive_power                            float64\n",
       "wind_direction_raw                        float64\n",
       "wind_speed_raw                            float64\n",
       "wind_speed_turbulence                     float64\n",
       "turbine_id                                 object\n",
       "Target                                    float64\n",
       "dtype: object"
      ]
     },
     "execution_count": 7,
     "metadata": {},
     "output_type": "execute_result"
    }
   ],
   "source": [
    "ld_train.dtypes"
   ]
  },
  {
   "cell_type": "code",
   "execution_count": 8,
   "id": "090621e0",
   "metadata": {},
   "outputs": [
    {
     "data": {
      "text/plain": [
       "active_power_calculated_by_converter      float64\n",
       "active_power_raw                          float64\n",
       "ambient_temperature                       float64\n",
       "generator_speed                           float64\n",
       "generator_winding_temp_max                float64\n",
       "grid_power10min_average                   float64\n",
       "nc1_inside_temp                           float64\n",
       "nacelle_temp                              float64\n",
       "reactice_power_calculated_by_converter    float64\n",
       "reactive_power                            float64\n",
       "wind_direction_raw                        float64\n",
       "wind_speed_raw                            float64\n",
       "wind_speed_turbulence                     float64\n",
       "turbine_id                                 object\n",
       "dtype: object"
      ]
     },
     "execution_count": 8,
     "metadata": {},
     "output_type": "execute_result"
    }
   ],
   "source": [
    "ld_test.dtypes"
   ]
  },
  {
   "cell_type": "code",
   "execution_count": 9,
   "id": "25d81bda",
   "metadata": {},
   "outputs": [
    {
     "data": {
      "text/plain": [
       "timestamp                                 0\n",
       "active_power_calculated_by_converter      0\n",
       "active_power_raw                          0\n",
       "ambient_temperature                       0\n",
       "generator_speed                           0\n",
       "generator_winding_temp_max                0\n",
       "grid_power10min_average                   0\n",
       "nc1_inside_temp                           0\n",
       "nacelle_temp                              0\n",
       "reactice_power_calculated_by_converter    0\n",
       "reactive_power                            0\n",
       "wind_direction_raw                        0\n",
       "wind_speed_raw                            0\n",
       "wind_speed_turbulence                     0\n",
       "turbine_id                                0\n",
       "Target                                    0\n",
       "dtype: int64"
      ]
     },
     "execution_count": 9,
     "metadata": {},
     "output_type": "execute_result"
    }
   ],
   "source": [
    "ld_train.isnull().sum()"
   ]
  },
  {
   "cell_type": "code",
   "execution_count": 10,
   "id": "ceeeb256",
   "metadata": {},
   "outputs": [
    {
     "data": {
      "text/plain": [
       "active_power_calculated_by_converter      0\n",
       "active_power_raw                          0\n",
       "ambient_temperature                       0\n",
       "generator_speed                           0\n",
       "generator_winding_temp_max                0\n",
       "grid_power10min_average                   0\n",
       "nc1_inside_temp                           0\n",
       "nacelle_temp                              0\n",
       "reactice_power_calculated_by_converter    0\n",
       "reactive_power                            0\n",
       "wind_direction_raw                        0\n",
       "wind_speed_raw                            0\n",
       "wind_speed_turbulence                     0\n",
       "turbine_id                                0\n",
       "dtype: int64"
      ]
     },
     "execution_count": 10,
     "metadata": {},
     "output_type": "execute_result"
    }
   ],
   "source": [
    "ld_test.isnull().sum()"
   ]
  },
  {
   "cell_type": "markdown",
   "id": "3c485f2c",
   "metadata": {},
   "source": [
    "#### Dropping timestamp and turbine_id columns from train data set"
   ]
  },
  {
   "cell_type": "code",
   "execution_count": 11,
   "id": "0825f7f1",
   "metadata": {},
   "outputs": [],
   "source": [
    "for col in ['timestamp','turbine_id']:\n",
    "    ld_train.drop([col],1,inplace=True)"
   ]
  },
  {
   "cell_type": "markdown",
   "id": "a29ff6f9",
   "metadata": {},
   "source": [
    "#### Dropping turbine_id columns from test data set"
   ]
  },
  {
   "cell_type": "code",
   "execution_count": 12,
   "id": "bc259d85",
   "metadata": {},
   "outputs": [],
   "source": [
    "for col in ['turbine_id']:\n",
    "    ld_test.drop([col],1,inplace=True)"
   ]
  },
  {
   "cell_type": "markdown",
   "id": "152bc968",
   "metadata": {},
   "source": [
    "### Using XGBOOST"
   ]
  },
  {
   "cell_type": "code",
   "execution_count": 13,
   "id": "dd5afa3a",
   "metadata": {},
   "outputs": [],
   "source": [
    "from xgboost import XGBRegressor\n",
    "from sklearn.model_selection import RandomizedSearchCV"
   ]
  },
  {
   "cell_type": "code",
   "execution_count": 14,
   "id": "b5164488",
   "metadata": {},
   "outputs": [],
   "source": [
    "xgb_params = {  \n",
    "                \"learning_rate\":[0.3,0.35,0.4],\n",
    "                \"gamma\":[i/10.0 for i in range(0,5)],\n",
    "                \"max_depth\": [2,5,6,8],\n",
    "                \"min_child_weight\":[2,5,10],\n",
    "                \"reg_lambda\":[1e-5, 1e-2, 0.1, 1, 100], \n",
    "                \"reg_alpha\":[1e-5, 1e-2, 0.1, 1, 100],\n",
    "                \"n_estimators\":[50,100,200,500]\n",
    "             }"
   ]
  },
  {
   "cell_type": "code",
   "execution_count": 15,
   "id": "8df3b89e",
   "metadata": {},
   "outputs": [],
   "source": [
    "xgb = XGBRegressor()"
   ]
  },
  {
   "cell_type": "code",
   "execution_count": 16,
   "id": "a263f5b1",
   "metadata": {},
   "outputs": [],
   "source": [
    "random_search=RandomizedSearchCV(xgb,\n",
    "                                 cv=5,\n",
    "                                 param_distributions=xgb_params,\n",
    "                                 scoring='neg_mean_absolute_error',\n",
    "                                 n_iter=5,n_jobs=-1,verbose=20\n",
    "                                    )"
   ]
  },
  {
   "cell_type": "markdown",
   "id": "4d834a71",
   "metadata": {},
   "source": [
    "### Splitting training data into 80/20 ratio for training validation"
   ]
  },
  {
   "cell_type": "code",
   "execution_count": 17,
   "id": "f60e40e6",
   "metadata": {},
   "outputs": [],
   "source": [
    "from sklearn.model_selection import train_test_split"
   ]
  },
  {
   "cell_type": "code",
   "execution_count": 18,
   "id": "d0a46459",
   "metadata": {},
   "outputs": [],
   "source": [
    "a_train, a_test = train_test_split(ld_train, test_size = 0.2, random_state=42)"
   ]
  },
  {
   "cell_type": "code",
   "execution_count": 19,
   "id": "4b704ad0",
   "metadata": {},
   "outputs": [],
   "source": [
    "x_train1=a_train.drop(['Target'],axis=1)\n",
    "y_train1=a_train['Target']"
   ]
  },
  {
   "cell_type": "code",
   "execution_count": 20,
   "id": "1bfe00a2",
   "metadata": {},
   "outputs": [],
   "source": [
    "x_train_test2=a_test.drop(['Target'],axis=1)"
   ]
  },
  {
   "cell_type": "code",
   "execution_count": 21,
   "id": "6d4b260e",
   "metadata": {},
   "outputs": [
    {
     "name": "stdout",
     "output_type": "stream",
     "text": [
      "Fitting 5 folds for each of 5 candidates, totalling 25 fits\n"
     ]
    },
    {
     "data": {
      "text/plain": [
       "RandomizedSearchCV(cv=5,\n",
       "                   estimator=XGBRegressor(base_score=None, booster=None,\n",
       "                                          callbacks=None,\n",
       "                                          colsample_bylevel=None,\n",
       "                                          colsample_bynode=None,\n",
       "                                          colsample_bytree=None,\n",
       "                                          early_stopping_rounds=None,\n",
       "                                          enable_categorical=False,\n",
       "                                          eval_metric=None, gamma=None,\n",
       "                                          gpu_id=None, grow_policy=None,\n",
       "                                          importance_type=None,\n",
       "                                          interaction_constraints=None,\n",
       "                                          learning_rate=None, max_bin=None,\n",
       "                                          m...\n",
       "                                          predictor=None, random_state=None,\n",
       "                                          reg_alpha=None, reg_lambda=None, ...),\n",
       "                   n_iter=5, n_jobs=-1,\n",
       "                   param_distributions={'gamma': [0.0, 0.1, 0.2, 0.3, 0.4],\n",
       "                                        'learning_rate': [0.3, 0.35, 0.4],\n",
       "                                        'max_depth': [2, 5, 6, 8],\n",
       "                                        'min_child_weight': [2, 5, 10],\n",
       "                                        'n_estimators': [50, 100, 200, 500],\n",
       "                                        'reg_alpha': [1e-05, 0.01, 0.1, 1, 100],\n",
       "                                        'reg_lambda': [1e-05, 0.01, 0.1, 1,\n",
       "                                                       100]},\n",
       "                   scoring='neg_mean_absolute_error', verbose=20)"
      ]
     },
     "execution_count": 21,
     "metadata": {},
     "output_type": "execute_result"
    }
   ],
   "source": [
    "random_search.fit(x_train1,y_train1)"
   ]
  },
  {
   "cell_type": "code",
   "execution_count": 22,
   "id": "01141015",
   "metadata": {},
   "outputs": [
    {
     "data": {
      "text/plain": [
       "XGBRegressor(base_score=0.5, booster='gbtree', callbacks=None,\n",
       "             colsample_bylevel=1, colsample_bynode=1, colsample_bytree=1,\n",
       "             early_stopping_rounds=None, enable_categorical=False,\n",
       "             eval_metric=None, gamma=0.2, gpu_id=-1, grow_policy='depthwise',\n",
       "             importance_type=None, interaction_constraints='',\n",
       "             learning_rate=0.3, max_bin=256, max_cat_to_onehot=4,\n",
       "             max_delta_step=0, max_depth=8, max_leaves=0, min_child_weight=2,\n",
       "             missing=nan, monotone_constraints='()', n_estimators=500, n_jobs=0,\n",
       "             num_parallel_tree=1, predictor='auto', random_state=0,\n",
       "             reg_alpha=1e-05, reg_lambda=1, ...)"
      ]
     },
     "execution_count": 22,
     "metadata": {},
     "output_type": "execute_result"
    }
   ],
   "source": [
    "random_search.best_estimator_"
   ]
  },
  {
   "cell_type": "code",
   "execution_count": 23,
   "id": "cbadc8b9",
   "metadata": {},
   "outputs": [],
   "source": [
    "model=random_search.best_estimator_"
   ]
  },
  {
   "cell_type": "code",
   "execution_count": 24,
   "id": "05acdd40",
   "metadata": {},
   "outputs": [
    {
     "data": {
      "text/plain": [
       "XGBRegressor(base_score=0.5, booster='gbtree', callbacks=None,\n",
       "             colsample_bylevel=1, colsample_bynode=1, colsample_bytree=1,\n",
       "             early_stopping_rounds=None, enable_categorical=False,\n",
       "             eval_metric=None, gamma=0.2, gpu_id=-1, grow_policy='depthwise',\n",
       "             importance_type=None, interaction_constraints='',\n",
       "             learning_rate=0.3, max_bin=256, max_cat_to_onehot=4,\n",
       "             max_delta_step=0, max_depth=8, max_leaves=0, min_child_weight=2,\n",
       "             missing=nan, monotone_constraints='()', n_estimators=500, n_jobs=0,\n",
       "             num_parallel_tree=1, predictor='auto', random_state=0,\n",
       "             reg_alpha=1e-05, reg_lambda=1, ...)"
      ]
     },
     "execution_count": 24,
     "metadata": {},
     "output_type": "execute_result"
    }
   ],
   "source": [
    "model.fit(x_train1,y_train1)"
   ]
  },
  {
   "cell_type": "code",
   "execution_count": 25,
   "id": "48c8d5ae",
   "metadata": {},
   "outputs": [],
   "source": [
    "train_pred=model.predict(x_train_test2)"
   ]
  },
  {
   "cell_type": "code",
   "execution_count": 26,
   "id": "5ee23ff7",
   "metadata": {},
   "outputs": [
    {
     "data": {
      "text/plain": [
       "array([48.429768, 48.862602, 42.524845, ..., 46.92071 , 45.760185,\n",
       "       46.87509 ], dtype=float32)"
      ]
     },
     "execution_count": 26,
     "metadata": {},
     "output_type": "execute_result"
    }
   ],
   "source": [
    "train_pred"
   ]
  },
  {
   "cell_type": "code",
   "execution_count": 27,
   "id": "fad4f787",
   "metadata": {},
   "outputs": [],
   "source": [
    "from sklearn.metrics import mean_absolute_error\n",
    "from sklearn.metrics import mean_absolute_percentage_error"
   ]
  },
  {
   "cell_type": "markdown",
   "id": "21b38e06",
   "metadata": {},
   "source": [
    "#### Mean Absolute Error"
   ]
  },
  {
   "cell_type": "code",
   "execution_count": 28,
   "id": "63b3027e",
   "metadata": {},
   "outputs": [
    {
     "data": {
      "text/plain": [
       "0.9058439398817311"
      ]
     },
     "execution_count": 28,
     "metadata": {},
     "output_type": "execute_result"
    }
   ],
   "source": [
    "mean_absolute_error(a_test['Target'],train_pred)"
   ]
  },
  {
   "cell_type": "markdown",
   "id": "13e4c201",
   "metadata": {},
   "source": [
    "#### Mean Absolute Percentage Error"
   ]
  },
  {
   "cell_type": "code",
   "execution_count": 29,
   "id": "8361a082",
   "metadata": {},
   "outputs": [
    {
     "data": {
      "text/plain": [
       "0.019445334330776932"
      ]
     },
     "execution_count": 29,
     "metadata": {},
     "output_type": "execute_result"
    }
   ],
   "source": [
    "mean_absolute_percentage_error(a_test['Target'],train_pred)"
   ]
  },
  {
   "cell_type": "markdown",
   "id": "6f7ea98a",
   "metadata": {},
   "source": [
    "### Applying the parameters on complete training data"
   ]
  },
  {
   "cell_type": "code",
   "execution_count": 30,
   "id": "87d0d872",
   "metadata": {},
   "outputs": [],
   "source": [
    "x_train=ld_train.drop(['Target'],axis=1)\n",
    "y_train=ld_train['Target']\n",
    "x_test=ld_test"
   ]
  },
  {
   "cell_type": "markdown",
   "id": "5403b30d",
   "metadata": {},
   "source": [
    "### Model Training"
   ]
  },
  {
   "cell_type": "code",
   "execution_count": 31,
   "id": "7e63b27f",
   "metadata": {},
   "outputs": [
    {
     "data": {
      "text/plain": [
       "XGBRegressor(base_score=0.5, booster='gbtree', callbacks=None,\n",
       "             colsample_bylevel=1, colsample_bynode=1, colsample_bytree=1,\n",
       "             early_stopping_rounds=None, enable_categorical=False,\n",
       "             eval_metric=None, gamma=0.2, gpu_id=-1, grow_policy='depthwise',\n",
       "             importance_type=None, interaction_constraints='',\n",
       "             learning_rate=0.3, max_bin=256, max_cat_to_onehot=4,\n",
       "             max_delta_step=0, max_depth=8, max_leaves=0, min_child_weight=2,\n",
       "             missing=nan, monotone_constraints='()', n_estimators=500, n_jobs=0,\n",
       "             num_parallel_tree=1, predictor='auto', random_state=0,\n",
       "             reg_alpha=1e-05, reg_lambda=1, ...)"
      ]
     },
     "execution_count": 31,
     "metadata": {},
     "output_type": "execute_result"
    }
   ],
   "source": [
    "model.fit(x_train,y_train)"
   ]
  },
  {
   "cell_type": "markdown",
   "id": "92ba3835",
   "metadata": {},
   "source": [
    "### Predict and Submit"
   ]
  },
  {
   "cell_type": "code",
   "execution_count": 35,
   "id": "7d05c788",
   "metadata": {},
   "outputs": [],
   "source": [
    "test_pred=model.predict(x_test)"
   ]
  },
  {
   "cell_type": "code",
   "execution_count": 36,
   "id": "9ef75288",
   "metadata": {},
   "outputs": [],
   "source": [
    "submission=pd.DataFrame({'Target':test_pred})"
   ]
  },
  {
   "cell_type": "code",
   "execution_count": 38,
   "id": "721e75f8",
   "metadata": {},
   "outputs": [],
   "source": [
    "submission.to_csv('my_submission_file.csv',index=False)"
   ]
  }
 ],
 "metadata": {
  "kernelspec": {
   "display_name": "Python 3",
   "language": "python",
   "name": "python3"
  },
  "language_info": {
   "codemirror_mode": {
    "name": "ipython",
    "version": 3
   },
   "file_extension": ".py",
   "mimetype": "text/x-python",
   "name": "python",
   "nbconvert_exporter": "python",
   "pygments_lexer": "ipython3",
   "version": "3.8.8"
  }
 },
 "nbformat": 4,
 "nbformat_minor": 5
}
